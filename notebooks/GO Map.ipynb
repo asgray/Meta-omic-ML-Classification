{
 "cells": [
  {
   "cell_type": "markdown",
   "metadata": {},
   "source": [
    "This notbook maps the features from each dataset from protein families to GO terms using the UniProt web API"
   ]
  },
  {
   "cell_type": "code",
   "execution_count": 1,
   "metadata": {},
   "outputs": [],
   "source": [
    "import pickle\n",
    "import pandas as pd\n",
    "import numpy as np\n",
    "import requests\n",
    "import concurrent.futures as cf\n",
    "from tqdm import tqdm\n",
    "import os\n",
    "import wget\n",
    "from Bio import SeqIO\n",
    "\n",
    "data_path = '../data/'"
   ]
  },
  {
   "cell_type": "markdown",
   "metadata": {},
   "source": [
    "DNA Δ Features"
   ]
  },
  {
   "cell_type": "code",
   "execution_count": 2,
   "metadata": {},
   "outputs": [
    {
     "data": {
      "text/plain": [
       "56212"
      ]
     },
     "execution_count": 2,
     "metadata": {},
     "output_type": "execute_result"
    }
   ],
   "source": [
    "df_DNA_delta = None\n",
    "with open('../data/OriginalDataframes/DNA_diff_std.pkl', 'rb') as file:\n",
    "    df_DNA_delta = pickle.load(file)\n",
    "DNA_delta_columns = [col for col in df_DNA_delta.columns.values if col != 'diagnosis']\n",
    "len(DNA_delta_columns)"
   ]
  },
  {
   "cell_type": "markdown",
   "metadata": {},
   "source": [
    "RNA Δ Features"
   ]
  },
  {
   "cell_type": "code",
   "execution_count": 3,
   "metadata": {},
   "outputs": [
    {
     "data": {
      "text/plain": [
       "18693"
      ]
     },
     "execution_count": 3,
     "metadata": {},
     "output_type": "execute_result"
    }
   ],
   "source": [
    "df_RNA_delta = None\n",
    "with open('../data/OriginalDataframes/RNA_diff_std.pkl', 'rb') as file:\n",
    "    df_RNA_delta = pickle.load(file)\n",
    "RNA_delta_columns = [col for col in df_RNA_delta.columns.values if col != 'diagnosis']\n",
    "len(RNA_delta_columns)"
   ]
  },
  {
   "cell_type": "markdown",
   "metadata": {},
   "source": [
    "DNA % Features"
   ]
  },
  {
   "cell_type": "code",
   "execution_count": 4,
   "metadata": {},
   "outputs": [
    {
     "data": {
      "text/plain": [
       "15130"
      ]
     },
     "execution_count": 4,
     "metadata": {},
     "output_type": "execute_result"
    }
   ],
   "source": [
    "df_DNA_filter = None\n",
    "with open('../data/OriginalDataframes/DNA_filter_std.pkl', 'rb') as file:\n",
    "    df_DNA_filter = pickle.load(file)\n",
    "DNA_filter_columns = [col for col in df_DNA_filter.columns.values if col != 'diagnosis']\n",
    "len(DNA_filter_columns)"
   ]
  },
  {
   "cell_type": "markdown",
   "metadata": {},
   "source": [
    "RNA % Features"
   ]
  },
  {
   "cell_type": "code",
   "execution_count": 5,
   "metadata": {},
   "outputs": [
    {
     "data": {
      "text/plain": [
       "7655"
      ]
     },
     "execution_count": 5,
     "metadata": {},
     "output_type": "execute_result"
    }
   ],
   "source": [
    "df_RNA_filter = None\n",
    "with open('../data/OriginalDataframes/RNA_filter_std.pkl', 'rb') as file:\n",
    "    df_RNA_filter = pickle.load(file)\n",
    "RNA_filter_columns = [col for col in df_RNA_filter.columns.values if col != 'diagnosis']\n",
    "len(RNA_filter_columns)"
   ]
  },
  {
   "cell_type": "code",
   "execution_count": 6,
   "metadata": {
    "scrolled": true
   },
   "outputs": [
    {
     "name": "stdout",
     "output_type": "stream",
     "text": [
      "Total features: 97690\n",
      "Unique Features: 60181\n",
      "Difference: 37509\n"
     ]
    }
   ],
   "source": [
    "full_list = DNA_delta_columns + RNA_delta_columns + DNA_filter_columns + RNA_filter_columns\n",
    "feature_set = set(full_list)\n",
    "print(f'Total features: {len(full_list)}')\n",
    "print(f'Unique Features: {len(feature_set)}')\n",
    "print(f'Difference: {len(full_list) - len(feature_set)}')"
   ]
  },
  {
   "cell_type": "code",
   "execution_count": 7,
   "metadata": {},
   "outputs": [
    {
     "name": "stdout",
     "output_type": "stream",
     "text": [
      "['Q64MK3', 'H1CJ82', 'R5SPN9']\n"
     ]
    }
   ],
   "source": [
    "gene_set = [feature.split('_')[1] for feature in feature_set]\n",
    "print(gene_set[:3])"
   ]
  },
  {
   "cell_type": "code",
   "execution_count": 8,
   "metadata": {},
   "outputs": [],
   "source": [
    "def download_gene(gene):\n",
    "    if f'{gene}.txt' not in uniprot_files:\n",
    "        try:\n",
    "            wget.download(f'https://www.uniprot.org/uniprot/{gene}.txt', uniprot_path)\n",
    "        except:\n",
    "            pass"
   ]
  },
  {
   "cell_type": "code",
   "execution_count": 9,
   "metadata": {
    "scrolled": false
   },
   "outputs": [
    {
     "name": "stderr",
     "output_type": "stream",
     "text": [
      "100%|█████████████████████████████████████████████████████████████████████████████████████████████████████████████████████████████████████| 60181/60181 [00:06<00:00, 8942.79it/s]\n"
     ]
    }
   ],
   "source": [
    "uniprot_path = data_path + 'uniprot_files'\n",
    "uniprot_files = os.listdir(uniprot_path)\n",
    "with cf.ThreadPoolExecutor() as executor:\n",
    "    list(tqdm(executor.map(download_gene, gene_set), total = len(gene_set)))"
   ]
  },
  {
   "cell_type": "markdown",
   "metadata": {},
   "source": [
    "Uniprot API yields SwissProt format files:\n",
    "https://web.expasy.org/docs/userman.html"
   ]
  },
  {
   "cell_type": "code",
   "execution_count": 10,
   "metadata": {},
   "outputs": [
    {
     "data": {
      "text/plain": [
       "59871"
      ]
     },
     "execution_count": 10,
     "metadata": {},
     "output_type": "execute_result"
    }
   ],
   "source": [
    "uniprot_files = os.listdir(uniprot_path)\n",
    "len(uniprot_files)"
   ]
  },
  {
   "cell_type": "code",
   "execution_count": 11,
   "metadata": {},
   "outputs": [],
   "source": [
    "def check_file_content(gene):\n",
    "    if os.stat(uniprot_path+ '/' + gene).st_size > 0:\n",
    "        return gene\n",
    "    else:\n",
    "        False"
   ]
  },
  {
   "cell_type": "code",
   "execution_count": 12,
   "metadata": {},
   "outputs": [
    {
     "name": "stderr",
     "output_type": "stream",
     "text": [
      "Finding Full Files: 100%|████████████████████████████████████████████████████████████████████████████████████████████████████████████████| 59871/59871 [00:04<00:00, 12658.85it/s]"
     ]
    },
    {
     "name": "stdout",
     "output_type": "stream",
     "text": [
      "52002\n"
     ]
    },
    {
     "name": "stderr",
     "output_type": "stream",
     "text": [
      "\n"
     ]
    }
   ],
   "source": [
    "good_files = []\n",
    "with tqdm(total=len(uniprot_files), desc='Finding Full Files: ') as pbar:\n",
    "    with cf.ThreadPoolExecutor() as executor:\n",
    "        futures = [executor.submit(check_file_content, file) for file in uniprot_files]\n",
    "        for future in cf.as_completed(futures):\n",
    "            res = future.result()\n",
    "            if res:\n",
    "                good_files.append(res)\n",
    "            pbar.update(1)\n",
    "print(len(good_files))"
   ]
  },
  {
   "cell_type": "code",
   "execution_count": 13,
   "metadata": {},
   "outputs": [],
   "source": [
    "def extract_GO(gene):\n",
    "    path = uniprot_path + '/' + gene\n",
    "    record = None\n",
    "    for rec in SeqIO.parse(path, 'swiss'):\n",
    "        record = rec\n",
    "    return gene[:-4], [xref for xref in record.dbxrefs if xref.startswith('GO:')]"
   ]
  },
  {
   "cell_type": "code",
   "execution_count": 17,
   "metadata": {
    "scrolled": false
   },
   "outputs": [
    {
     "name": "stderr",
     "output_type": "stream",
     "text": [
      "Mapping GO Terms: 100%|████████████████████████████████████████████████████████████████████████████████████████████████████████████████████| 52002/52002 [02:47<00:00, 310.72it/s]\n"
     ]
    }
   ],
   "source": [
    "GO_map = {}\n",
    "with tqdm(total=len(good_files), desc='Mapping GO Terms: ') as pbar:\n",
    "    with cf.ThreadPoolExecutor() as executor:\n",
    "        futures = [executor.submit(extract_GO, file) for file in good_files]\n",
    "        for future in cf.as_completed(futures):\n",
    "            gene, GOs = future.result()\n",
    "            if GOs:\n",
    "                GO_map[gene] = GOs\n",
    "            pbar.update(1)"
   ]
  },
  {
   "cell_type": "markdown",
   "metadata": {},
   "source": [
    "len(GO_map) = 34402"
   ]
  },
  {
   "cell_type": "markdown",
   "metadata": {},
   "source": [
    "strip dbxref from tag: GO:GO:tag -> GO:tag"
   ]
  },
  {
   "cell_type": "code",
   "execution_count": 26,
   "metadata": {},
   "outputs": [],
   "source": [
    "same_prefix = True\n",
    "for gene in GO_map:\n",
    "    GO_map[gene] = [tag[3:] for tag in GO_map[gene]]"
   ]
  },
  {
   "cell_type": "code",
   "execution_count": 25,
   "metadata": {},
   "outputs": [],
   "source": [
    "with open('../data/GO_map.pkl', 'wb') as handle:\n",
    "    pickle.dump(GO_map, handle, protocol=pickle.HIGHEST_PROTOCOL)"
   ]
  }
 ],
 "metadata": {
  "kernelspec": {
   "display_name": "Python 3",
   "language": "python",
   "name": "python3"
  },
  "language_info": {
   "codemirror_mode": {
    "name": "ipython",
    "version": 3
   },
   "file_extension": ".py",
   "mimetype": "text/x-python",
   "name": "python",
   "nbconvert_exporter": "python",
   "pygments_lexer": "ipython3",
   "version": "3.8.2"
  }
 },
 "nbformat": 4,
 "nbformat_minor": 4
}
